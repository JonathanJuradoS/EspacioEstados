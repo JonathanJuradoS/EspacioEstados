{
  "cells": [
    {
      "cell_type": "markdown",
      "metadata": {
        "id": "view-in-github",
        "colab_type": "text"
      },
      "source": [
        "<a href=\"https://colab.research.google.com/github/JonathanJuradoS/EspacioEstados/blob/main/8Puzzle_HillClimbing_AStar.ipynb\" target=\"_parent\"><img src=\"https://colab.research.google.com/assets/colab-badge.svg\" alt=\"Open In Colab\"/></a>"
      ]
    },
    {
      "cell_type": "markdown",
      "id": "27200b61",
      "metadata": {
        "id": "27200b61"
      },
      "source": [
        "# 🔍 8-Puzzle con Hill Climbing y A*\n",
        "\n",
        "**Objetivo del caso:** Resolver el clásico rompecabezas de 8 fichas, encontrando una secuencia de movimientos que lleve desde un estado inicial desordenado hasta el estado meta ordenado.\n",
        "\n",
        "**Definición del problema:**\n",
        "- Tablero 3x3\n",
        "- Fichas del 1 al 8 y un espacio vacío (0)\n",
        "- Movimientos: arriba, abajo, izquierda, derecha\n"
      ]
    },
    {
      "cell_type": "code",
      "execution_count": 3,
      "id": "75d9fa46",
      "metadata": {
        "colab": {
          "base_uri": "https://localhost:8080/"
        },
        "id": "75d9fa46",
        "outputId": "f6a24cca-b391-4777-b761-873a53cd7b97"
      },
      "outputs": [
        {
          "output_type": "stream",
          "name": "stdout",
          "text": [
            "[1, 2, 3]\n",
            "[4, 0, 6]\n",
            "[7, 5, 8]\n",
            "\n",
            "[1, 2, 3]\n",
            "[4, 5, 6]\n",
            "[7, 8, 0]\n",
            "\n"
          ]
        }
      ],
      "source": [
        "# 🔧 Definición del problema y visualización inicial\n",
        "# Este bloque define el estado inicial y final del rompecabezas de 8. Se usa una lista de 9 elementos (de 0 a 8), donde 0 representa el espacio vacío.\n",
        "# La función `imprimir_estado` permite visualizar el estado de forma matricial (3x3).\n",
        "\n",
        "import numpy as np\n",
        "\n",
        "def es_estado_valido(estado):\n",
        "    return sorted(estado) == list(range(9))\n",
        "\n",
        "def imprimir_estado(estado):\n",
        "    for i in range(0, 9, 3):\n",
        "        print(estado[i:i+3])\n",
        "    print()\n",
        "\n",
        "estado_inicial = [1, 2, 3,\n",
        "                  4, 0, 6,\n",
        "                  7, 5, 8]\n",
        "\n",
        "estado_objetivo = [1, 2, 3,\n",
        "                   4, 5, 6,\n",
        "                   7, 8, 0]\n",
        "\n",
        "imprimir_estado(estado_inicial)\n",
        "imprimir_estado(estado_objetivo)"
      ]
    },
    {
      "cell_type": "markdown",
      "id": "64420297",
      "metadata": {
        "id": "64420297"
      },
      "source": [
        "## 🚀 Hill Climbing"
      ]
    },
    {
      "cell_type": "code",
      "execution_count": 4,
      "id": "50a928a9",
      "metadata": {
        "colab": {
          "base_uri": "https://localhost:8080/"
        },
        "id": "50a928a9",
        "outputId": "65dd2bcc-4d12-4829-c8c2-aeddcf4d3eae"
      },
      "outputs": [
        {
          "output_type": "stream",
          "name": "stdout",
          "text": [
            "[1, 2, 3]\n",
            "[4, 0, 6]\n",
            "[7, 5, 8]\n",
            "\n",
            "[1, 2, 3]\n",
            "[4, 5, 6]\n",
            "[7, 0, 8]\n",
            "\n",
            "[1, 2, 3]\n",
            "[4, 5, 6]\n",
            "[7, 8, 0]\n",
            "\n",
            "Movimientos: 2\n"
          ]
        }
      ],
      "source": [
        "# 🚀 Hill Climbing\n",
        "# Este algoritmo busca mejorar el estado actual evaluando sus vecinos. Si encuentra uno mejor (menor heurística), se mueve hacia él. Puede quedar atrapado en óptimos locales si ningún vecino es mejor.\n",
        "# Heurística usada: Número de fichas fuera de lugar (Hamming)\n",
        "\n",
        "from copy import deepcopy\n",
        "\n",
        "def heuristica_hamming(estado, objetivo):\n",
        "    return sum([1 for i in range(9) if estado[i] != 0 and estado[i] != objetivo[i]])\n",
        "\n",
        "def mover(estado, direccion):\n",
        "    nuevo = estado[:]\n",
        "    idx = nuevo.index(0)\n",
        "    i, j = divmod(idx, 3)\n",
        "    if direccion == 'arriba' and i > 0:\n",
        "        nuevo[idx], nuevo[idx - 3] = nuevo[idx - 3], nuevo[idx]\n",
        "    elif direccion == 'abajo' and i < 2:\n",
        "        nuevo[idx], nuevo[idx + 3] = nuevo[idx + 3], nuevo[idx]\n",
        "    elif direccion == 'izquierda' and j > 0:\n",
        "        nuevo[idx], nuevo[idx - 1] = nuevo[idx - 1], nuevo[idx]\n",
        "    elif direccion == 'derecha' and j < 2:\n",
        "        nuevo[idx], nuevo[idx + 1] = nuevo[idx + 1], nuevo[idx]\n",
        "    return nuevo\n",
        "\n",
        "def hill_climbing(estado_inicial, objetivo):\n",
        "    actual = estado_inicial[:]\n",
        "    camino = [actual]\n",
        "    while True:\n",
        "        vecinos = [mover(actual, d) for d in ['arriba','abajo','izquierda','derecha']]\n",
        "        vecinos = [v for v in vecinos if v != actual]\n",
        "        vecino_mejor = min(vecinos, key=lambda x: heuristica_hamming(x, objetivo), default=actual)\n",
        "        if heuristica_hamming(vecino_mejor, objetivo) >= heuristica_hamming(actual, objetivo):\n",
        "            break\n",
        "        actual = vecino_mejor\n",
        "        camino.append(actual)\n",
        "    return camino\n",
        "\n",
        "camino_hc = hill_climbing(estado_inicial, estado_objetivo)\n",
        "for paso in camino_hc:\n",
        "    imprimir_estado(paso)\n",
        "print(\"Movimientos:\", len(camino_hc)-1)"
      ]
    },
    {
      "cell_type": "markdown",
      "id": "aa87d115",
      "metadata": {
        "id": "aa87d115"
      },
      "source": [
        "## 🌟 A* (A estrella)"
      ]
    },
    {
      "cell_type": "code",
      "execution_count": 5,
      "id": "ad3b436b",
      "metadata": {
        "colab": {
          "base_uri": "https://localhost:8080/"
        },
        "id": "ad3b436b",
        "outputId": "28cd893d-a6bf-47df-cc6e-ba7ae89a688d"
      },
      "outputs": [
        {
          "output_type": "stream",
          "name": "stdout",
          "text": [
            "[1, 2, 3]\n",
            "[4, 0, 6]\n",
            "[7, 5, 8]\n",
            "\n",
            "[1, 2, 3]\n",
            "[4, 5, 6]\n",
            "[7, 0, 8]\n",
            "\n",
            "[1, 2, 3]\n",
            "[4, 5, 6]\n",
            "[7, 8, 0]\n",
            "\n",
            "Movimientos: 2\n"
          ]
        }
      ],
      "source": [
        "# 🌟 A* (A estrella)\n",
        "# Este algoritmo utiliza el costo acumulado `g(n)` y una heurística `h(n)` para priorizar los estados más prometedores.\n",
        "# Se garantiza encontrar la solución óptima si la heurística es admisible (como la distancia Manhattan).\n",
        "\n",
        "import heapq\n",
        "\n",
        "def heuristica_manhattan(estado, objetivo):\n",
        "    distancia = 0\n",
        "    for n in range(1, 9):\n",
        "        i, j = divmod(estado.index(n), 3)\n",
        "        x, y = divmod(objetivo.index(n), 3)\n",
        "        distancia += abs(i - x) + abs(j - y)\n",
        "    return distancia\n",
        "\n",
        "def a_estrella(estado_inicial, objetivo):\n",
        "    visitados = set()\n",
        "    heap = []\n",
        "    heapq.heappush(heap, (0 + heuristica_manhattan(estado_inicial, objetivo), 0, estado_inicial, []))\n",
        "\n",
        "    while heap:\n",
        "        f, g, actual, camino = heapq.heappop(heap)\n",
        "        tupla_estado = tuple(actual)\n",
        "        if tupla_estado in visitados:\n",
        "            continue\n",
        "        visitados.add(tupla_estado)\n",
        "        if actual == objetivo:\n",
        "            return camino + [actual]\n",
        "        for d in ['arriba','abajo','izquierda','derecha']:\n",
        "            vecino = mover(actual, d)\n",
        "            if tuple(vecino) not in visitados:\n",
        "                heapq.heappush(heap, (g + 1 + heuristica_manhattan(vecino, objetivo), g + 1, vecino, camino + [actual]))\n",
        "    return []\n",
        "\n",
        "camino_astar = a_estrella(estado_inicial, estado_objetivo)\n",
        "for paso in camino_astar:\n",
        "    imprimir_estado(paso)\n",
        "print(\"Movimientos:\", len(camino_astar)-1)"
      ]
    },
    {
      "cell_type": "markdown",
      "id": "10bcb4b5",
      "metadata": {
        "id": "10bcb4b5"
      },
      "source": [
        "## ✅ Conclusiones\n",
        "- Hill Climbing puede encontrar soluciones rápidas, pero puede quedarse atrapado en óptimos locales.\n",
        "- A* es más robusto y siempre encuentra la mejor solución si se usa una buena heurística.\n",
        "- El rompecabezas de 8 es una excelente herramienta para entender la diferencia entre algoritmos de búsqueda local y heurística informada.\n",
        "- Comparar ambos algoritmos permite reflexionar sobre eficiencia, optimalidad y limitaciones de cada método."
      ]
    }
  ],
  "metadata": {
    "colab": {
      "provenance": [],
      "include_colab_link": true
    },
    "language_info": {
      "name": "python"
    },
    "kernelspec": {
      "name": "python3",
      "display_name": "Python 3"
    }
  },
  "nbformat": 4,
  "nbformat_minor": 5
}