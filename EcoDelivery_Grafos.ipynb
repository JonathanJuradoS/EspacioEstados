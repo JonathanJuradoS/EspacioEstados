{
  "cells": [
    {
      "cell_type": "markdown",
      "metadata": {
        "id": "view-in-github",
        "colab_type": "text"
      },
      "source": [
        "<a href=\"https://colab.research.google.com/github/JonathanJuradoS/EspacioEstados/blob/main/EcoDelivery_Grafos.ipynb\" target=\"_parent\"><img src=\"https://colab.research.google.com/assets/colab-badge.svg\" alt=\"Open In Colab\"/></a>"
      ]
    },
    {
      "cell_type": "markdown",
      "metadata": {
        "id": "AGnMiish2nbp"
      },
      "source": [
        "# 🚲 EcoDelivery - Resolución de rutas con Grafos (BFS y DFS)\n",
        "Este notebook presenta un caso práctico usando grafos para encontrar rutas de entrega eficientes entre intersecciones urbanas. Se aplican algoritmos BFS y DFS."
      ]
    },
    {
      "cell_type": "code",
      "metadata": {
        "id": "CVv8x_yk2nbq"
      },
      "source": [
        "# Definición del grafo de intersecciones\n",
        "grafo = {\n",
        "    'A': ['B', 'C'],\n",
        "    'B': ['A', 'D'],\n",
        "    'C': ['A', 'E'],\n",
        "    'D': ['B', 'F'],\n",
        "    'E': ['C', 'F'],\n",
        "    'F': ['D', 'E']\n",
        "}"
      ],
      "execution_count": 1,
      "outputs": []
    },
    {
      "cell_type": "code",
      "metadata": {
        "id": "lilCSybb2nbs"
      },
      "source": [
        "from collections import deque"
      ],
      "execution_count": 3,
      "outputs": []
    },
    {
      "cell_type": "code",
      "metadata": {
        "id": "M_IRX6dT2nbs"
      },
      "source": [
        "def bfs(inicio, objetivo):\n",
        "    visitados = set()\n",
        "    cola = deque([[inicio]])\n",
        "    while cola:\n",
        "        camino = cola.popleft()\n",
        "        nodo = camino[-1]\n",
        "        if nodo == objetivo:\n",
        "            return camino\n",
        "        if nodo not in visitados:\n",
        "            for vecino in grafo[nodo]:\n",
        "                nuevo_camino = list(camino)\n",
        "                nuevo_camino.append(vecino)\n",
        "                cola.append(nuevo_camino)\n",
        "            visitados.add(nodo)\n",
        "    return None"
      ],
      "execution_count": 4,
      "outputs": []
    },
    {
      "cell_type": "code",
      "metadata": {
        "id": "dXMTmPrT2nbs"
      },
      "source": [
        "def dfs(inicio, objetivo):\n",
        "    visitados = set()\n",
        "    pila = [[inicio]]\n",
        "    while pila:\n",
        "        camino = pila.pop()\n",
        "        nodo = camino[-1]\n",
        "        if nodo == objetivo:\n",
        "            return camino\n",
        "        if nodo not in visitados:\n",
        "            for vecino in grafo[nodo]:\n",
        "                nuevo_camino = list(camino)\n",
        "                nuevo_camino.append(vecino)\n",
        "                pila.append(nuevo_camino)\n",
        "            visitados.add(nodo)\n",
        "    return None"
      ],
      "execution_count": 5,
      "outputs": []
    },
    {
      "cell_type": "code",
      "metadata": {
        "colab": {
          "base_uri": "https://localhost:8080/"
        },
        "id": "H3r_WDX92nbs",
        "outputId": "cf1b1a9d-e236-4d4b-e67c-540785819d6a"
      },
      "source": [
        "# Probando los algoritmos\n",
        "inicio = 'A'\n",
        "objetivo = 'F'\n",
        "\n",
        "ruta_bfs = bfs(inicio, objetivo)\n",
        "ruta_dfs = dfs(inicio, objetivo)\n",
        "\n",
        "print(\"Ruta encontrada con BFS:\", ruta_bfs)\n",
        "print(\"Ruta encontrada con DFS:\", ruta_dfs)"
      ],
      "execution_count": 6,
      "outputs": [
        {
          "output_type": "stream",
          "name": "stdout",
          "text": [
            "Ruta encontrada con BFS: ['A', 'B', 'D', 'F']\n",
            "Ruta encontrada con DFS: ['A', 'C', 'E', 'F']\n"
          ]
        }
      ]
    }
  ],
  "metadata": {
    "kernelspec": {
      "display_name": "Python 3",
      "language": "python",
      "name": "python3"
    },
    "language_info": {
      "name": "python",
      "version": "3.8"
    },
    "colab": {
      "provenance": [],
      "include_colab_link": true
    }
  },
  "nbformat": 4,
  "nbformat_minor": 0
}